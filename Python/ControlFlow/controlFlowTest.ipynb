{
  "nbformat": 4,
  "nbformat_minor": 0,
  "metadata": {
    "colab": {
      "name": "controlFlowTest.ipynb",
      "provenance": [],
      "collapsed_sections": [],
      "authorship_tag": "ABX9TyN4ZEB3Lj1y4ViGL4nTQo4l",
      "include_colab_link": true
    },
    "kernelspec": {
      "name": "python3",
      "display_name": "Python 3"
    },
    "language_info": {
      "name": "python"
    }
  },
  "cells": [
    {
      "cell_type": "markdown",
      "metadata": {
        "id": "view-in-github",
        "colab_type": "text"
      },
      "source": [
        "<a href=\"https://colab.research.google.com/github/lig8/ProgramingBasic/blob/main/Python/ControlFlow/controlFlowTest.ipynb\" target=\"_parent\"><img src=\"https://colab.research.google.com/assets/colab-badge.svg\" alt=\"Open In Colab\"/></a>"
      ]
    },
    {
      "cell_type": "markdown",
      "metadata": {
        "id": "h4Y196FZvclo"
      },
      "source": [
        "[Python/ControlFlow/controlFlowTest.ipynb]()\n",
        "\n",
        "- [Python coding standards](https://docs.ckan.org/en/2.9/contributing/python.html)\n",
        "\n",
        "![img](https://raw.githubusercontent.com/lig8/myData/main/programming/python/pic/codingStandards.JPG)"
      ]
    },
    {
      "cell_type": "code",
      "metadata": {
        "id": "uGDwJUDHh3Kb"
      },
      "source": [
        "# test on goole Colab\n",
        "# \n",
        "\n",
        "print(\"Have a seat please!!\")\n",
        "while True:\n",
        "  hungry = input(\"are you hungry? [1]yes,[2]starving,3=no:\")\n",
        "  print(\"You input %s\" %(hungry))\n",
        "  if hungry=='1':\n",
        "    print(\"eat one cake\")\n",
        "  elif hungry=='2':\n",
        "    for i in range(3):\n",
        "      print(\"eat %d cakes\" %(i+1))\n",
        "  elif hungry=='3':\n",
        "    print(\"Thanks for your trying,See you!!\")\n",
        "    break\n",
        "  else:\n",
        "    print(\"Input Error,Please try again!!\")\n"
      ],
      "execution_count": null,
      "outputs": []
    },
    {
      "cell_type": "markdown",
      "metadata": {
        "id": "UCn2ULhF5p6v"
      },
      "source": [
        "- [流程控制语句 while...else...与for...else...]()\n",
        "\n",
        "```\n",
        "while 条件判断： \n",
        "  语句1\n",
        "else：\n",
        "  语句2\n",
        "```\n",
        "```\n",
        "for 条件判断：\n",
        "  语句1\n",
        "else：\n",
        "  语句2\n",
        "```\n",
        "* 这两条语句都一样，当条件判断为真时执行语句1，否则执行语句2，语句2是一定会被执行的\n",
        "* 当用break语句跳出循环时不会执行else语句\n",
        "\n",
        "\n",
        "\n"
      ]
    },
    {
      "cell_type": "code",
      "metadata": {
        "id": "kogW_9tJ7zYI"
      },
      "source": [
        "for i in (1,2,3):\n",
        "  print(i)\n",
        "else:\n",
        "  print('over')\n",
        "print('-'*20)\n",
        "for i in (1,2,3):\n",
        "  print(i)\n",
        "  print('if break then no else')\n",
        "  break\n",
        "else:\n",
        "  print('over')"
      ],
      "execution_count": null,
      "outputs": []
    },
    {
      "cell_type": "code",
      "metadata": {
        "id": "RAPoIGBV8zKw"
      },
      "source": [
        "i=0\n",
        "while i < 3:\n",
        "\n",
        "  print(i)\n",
        "  i+=1\n",
        "else:\n",
        "  print('over')\n",
        "print('-'*20)\n",
        "i=0\n",
        "while i<3:\n",
        "  print(i)\n",
        "  i+=1\n",
        "  print('if break then no else')\n",
        "  break\n",
        "else:\n",
        "  print('over')"
      ],
      "execution_count": null,
      "outputs": []
    }
  ]
}