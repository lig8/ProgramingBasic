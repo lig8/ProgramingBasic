{
  "nbformat": 4,
  "nbformat_minor": 0,
  "metadata": {
    "colab": {
      "name": "eating.ipynb",
      "provenance": [],
      "collapsed_sections": [],
      "authorship_tag": "ABX9TyOfFbvrMN3ccTAp71s49vC9",
      "include_colab_link": true
    },
    "kernelspec": {
      "name": "python3",
      "display_name": "Python 3"
    },
    "language_info": {
      "name": "python"
    }
  },
  "cells": [
    {
      "cell_type": "markdown",
      "metadata": {
        "id": "view-in-github",
        "colab_type": "text"
      },
      "source": [
        "<a href=\"https://colab.research.google.com/github/lig8/ProgramingBasic/blob/main/Python/ControlFlow/eating.ipynb\" target=\"_parent\"><img src=\"https://colab.research.google.com/assets/colab-badge.svg\" alt=\"Open In Colab\"/></a>"
      ]
    },
    {
      "cell_type": "markdown",
      "metadata": {
        "id": "h4Y196FZvclo"
      },
      "source": [
        "### ProgramingBasic/Python/ControlFlow/eating.ipynb\n",
        "\n",
        "- [Python coding standards](https://docs.ckan.org/en/2.9/contributing/python.html)\n",
        "\n",
        "![img](https://raw.githubusercontent.com/lig8/myData/main/programming/python/pic/codingStandards.JPG)"
      ]
    },
    {
      "cell_type": "code",
      "metadata": {
        "id": "uGDwJUDHh3Kb"
      },
      "source": [
        "# test on goole Colab\n",
        "# \n",
        "\n",
        "print(\"Have a seat please!!\")\n",
        "while True:\n",
        "  hungry = input(\"are you hungry? [1]yes,[2]starving,3=no:\")\n",
        "  print(\"You input %s\" %(hungry))\n",
        "  if hungry=='1':\n",
        "    print(\"eat one cake\")\n",
        "  elif hungry=='2':\n",
        "    for i in range(3):\n",
        "      print(\"eat %d cakes\" %(i+1))\n",
        "  elif hungry=='3':\n",
        "    print(\"Thanks for your trying,See you!!\")\n",
        "    break\n",
        "  else:\n",
        "    print(\"Input Error,Please try again!!\")\n"
      ],
      "execution_count": null,
      "outputs": []
    }
  ]
}