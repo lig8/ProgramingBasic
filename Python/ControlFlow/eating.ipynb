{
  "nbformat": 4,
  "nbformat_minor": 0,
  "metadata": {
    "colab": {
      "name": "eating.ipynb",
      "provenance": [],
      "collapsed_sections": [],
      "authorship_tag": "ABX9TyMf0lrQ3gf4njBJPcfgwQHa",
      "include_colab_link": true
    },
    "kernelspec": {
      "name": "python3",
      "display_name": "Python 3"
    },
    "language_info": {
      "name": "python"
    }
  },
  "cells": [
    {
      "cell_type": "markdown",
      "metadata": {
        "id": "view-in-github",
        "colab_type": "text"
      },
      "source": [
        "<a href=\"https://colab.research.google.com/github/lig8/ProgramingBasic/blob/main/Python/ControlFlow/eating.ipynb\" target=\"_parent\"><img src=\"https://colab.research.google.com/assets/colab-badge.svg\" alt=\"Open In Colab\"/></a>"
      ]
    },
    {
      "cell_type": "code",
      "metadata": {
        "colab": {
          "base_uri": "https://localhost:8080/"
        },
        "id": "uGDwJUDHh3Kb",
        "outputId": "90f0893f-54bd-48fb-d734-2321cc98810a"
      },
      "source": [
        "# test on goole Colab\n",
        "# \n",
        "\n",
        "print(\"Have a seat please!!\")\n",
        "while True:\n",
        "  hungry = input(\"are you hungry? [1]yes,[2]starving,3=no:\")\n",
        "  print(\"You input %s\" %(hungry))\n",
        "  if hungry=='1':\n",
        "    print(\"eat one cake\")\n",
        "  elif hungry=='2':\n",
        "    for i in range(3):\n",
        "      print(\"eat %d cakes\" %(i+1))\n",
        "  elif hungry=='3':\n",
        "    print(\"Thanks for your trying,See you!!\")\n",
        "    break\n",
        "  else:\n",
        "    print(\"Input Error,Please try again!!\")\n"
      ],
      "execution_count": 13,
      "outputs": [
        {
          "output_type": "stream",
          "name": "stdout",
          "text": [
            "Have a seat please!!\n",
            "are you hungry? [1]yes,[2]starving,3=no:1\n",
            "You input 1\n",
            "eat one cake\n",
            "are you hungry? [1]yes,[2]starving,3=no:2\n",
            "You input 2\n",
            "eat 1 cakes\n",
            "eat 2 cakes\n",
            "eat 3 cakes\n",
            "are you hungry? [1]yes,[2]starving,3=no:5\n",
            "You input 5\n",
            "Input Error,Please try again!!\n",
            "are you hungry? [1]yes,[2]starving,3=no:3\n",
            "You input 3\n",
            "Thanks for your trying,See you!!\n"
          ]
        }
      ]
    }
  ]
}