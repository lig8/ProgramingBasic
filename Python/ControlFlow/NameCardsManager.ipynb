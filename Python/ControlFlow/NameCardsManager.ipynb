{
  "nbformat": 4,
  "nbformat_minor": 0,
  "metadata": {
    "colab": {
      "name": "NameCardsManager.ipynb",
      "provenance": [],
      "collapsed_sections": [],
      "include_colab_link": true
    },
    "kernelspec": {
      "name": "python3",
      "display_name": "Python 3"
    },
    "language_info": {
      "name": "python"
    }
  },
  "cells": [
    {
      "cell_type": "markdown",
      "metadata": {
        "id": "view-in-github",
        "colab_type": "text"
      },
      "source": [
        "<a href=\"https://colab.research.google.com/github/lig8/ProgramingBasic/blob/main/Python/ControlFlow/NameCardsManager.ipynb\" target=\"_parent\"><img src=\"https://colab.research.google.com/assets/colab-badge.svg\" alt=\"Open In Colab\"/></a>"
      ]
    },
    {
      "cell_type": "code",
      "metadata": {
        "id": "2CWXut_rvLpp"
      },
      "source": [
        "hungry = '1'\n",
        "while(hungry=='1' or hungry=='2'):\n",
        "  if(hungry=='1'):\n",
        "    print(\"eat one cake\")\n",
        "  else:\n",
        "    for i in range(3):\n",
        "      print(\"eat %d more\\n\" %(i+1))\n",
        "  hungry=input(\"are you hungry? 1=yes,2=starving,3=no:\")\n",
        "  print(\"You input %s\" %(hungry))\n",
        "print(\"go back to class\")"
      ],
      "execution_count": null,
      "outputs": []
    },
    {
      "cell_type": "code",
      "metadata": {
        "id": "Wb0vqgJpFT29"
      },
      "source": [
        ""
      ],
      "execution_count": null,
      "outputs": []
    },
    {
      "cell_type": "code",
      "metadata": {
        "id": "8GmoWkRsWAiH"
      },
      "source": [
        "NameCard_list = [\n",
        "  {\"Name\":\"lig0\",\"Wechat\":\"lig842\",\"Phone\":\"13910911234\",\"QQ\":\"53362233\"},\n",
        "  {\"Name\":\"lcj\",\"Wechat\":\"lcj842\",\"Phone\":\"15811388744\",\"QQ\":\"23555993\"},\n",
        "  {\"Name\":\"wjl\",\"Wechat\":\"wjl842\",\"Phone\":\"13681513633\",\"QQ\":\"22334578\"},\n",
        "  {\"Name\":\"ttup\",\"Wechat\":\"ttup123\",\"Phone\":\"13071103332\",\"QQ\":\"11234576\"} \n",
        "]\n",
        "\n",
        "def show_menu():\n",
        "  print(\"*\" * 50)\n",
        "  print(\"\\tWelcome To NameCard System V1.0\")\n",
        "  print(\"\\t1.Add NameCard\")\n",
        "  print(\"\\t2.Show all NameCard\")\n",
        "  print(\"\\t3.Search NameCard\")\n",
        "  print(\"\\t0.Exit System\")\n",
        "  print(\"*\" * 50+\"\\n\")\n",
        "\n",
        "def add_namecard():\n",
        "  # print(\"add NameCard\")\n",
        "  Name_str = input(\"\\nPlease input your name:\")\n",
        "  QQ_str = input(\"\\nPlease input your QQ:\")\n",
        "  Wechat_str = input(\"\\nPlease input your Wechat:\")\n",
        "  Phone_str = input(\"\\nPlease input your Phone:\")\n",
        "  NameCard_list.append({\n",
        "      \"Name\" : Name_str ,\n",
        "      \"Wechat\" : QQ_str ,\n",
        "      \"Phone\" : Phone_str ,\n",
        "      \"QQ\" : QQ_str ,\n",
        "  })\n",
        "  print(NameCard_list)\n",
        "\n",
        "def show_all_cards(card_list,tips_info):\n",
        "  # print(\"show all NameCard\")\n",
        "  print(\"\\n\"+\"-\" * 50)\n",
        "  print(\"\\t\\t%s\" %tips_info)\n",
        "  for index_key in (\"Name\",\"Wechat\",\"Phone\",\"QQ\"):\n",
        "    print(index_key,end=\"\\t\\t\")\n",
        "  print(\" \")\n",
        "  print(\"=\" * 50)\n",
        "  for card_dict in card_list:\n",
        "    print(\"%s\\t%s\\t\\t%s\\t%s\" %(card_dict[\"Name\"],\n",
        "                   card_dict[\"Wechat\"],\n",
        "                   card_dict[\"Phone\"],\n",
        "                   card_dict[\"QQ\"]))\n",
        "  print(\"-\" * 50 +\"\\n\")\n",
        "\n",
        "def deal_card_info(tips_info,dict_value):\n",
        "  card_str = input(\"\\nPlease Input %s: \" %tips_info)\n",
        "  if len(card_str) > 0:\n",
        "    return card_str\n",
        "  else:\n",
        "    return dict_value   \n",
        "\n",
        "def deal_card(name_card):\n",
        "  while True:\n",
        "    deal_option=input(\"[1]Delet,[2]Modify,[3]return to Mainmenu \")\n",
        "    if deal_option == \"1\":\n",
        "      NameCard_list.remove(name_card)\n",
        "      break\n",
        "    elif deal_option == \"2\":\n",
        "      name_card[\"Name\"] = deal_card_info(\"Name\",name_card[\"Name\"])\n",
        "      name_card[\"Wechat\"] = deal_card_info(\"Wechat\",name_card[\"Wechat\"])\n",
        "      name_card[\"Phone\"] = deal_card_info(\"Phone\",name_card[\"Phone\"])\n",
        "      name_card[\"QQ\"] = deal_card_info(\"QQ\",name_card[\"QQ\"]) \n",
        "      cards_list = (name_card,)\n",
        "      show_all_cards(cards_list,\"modification Succesed\")                 \n",
        "      break\n",
        "    elif deal_option == \"3\":\n",
        "      break\n",
        "    else:\n",
        "      print(\"\\n\"+\"*\"*50)\n",
        "      print(\"\\t\\tInput Error,Please try again!!\")\n",
        "      print(\"*\"*50+\"\\n\")\n",
        "\n",
        "def search_namecard():\n",
        "  name = input(\"Please Input The Name:\")\n",
        "  for name_card in NameCard_list:\n",
        "    if name == name_card[\"Name\"]:\n",
        "      card_list=(name_card,)\n",
        "      show_all_cards(card_list,\"Search Namecard\")\n",
        "      deal_card(name_card)\n",
        "      break;\n",
        "  else:\n",
        "    print(\" \")\n",
        "    print(\"\\tSorry,No Match Record Finded\")\n",
        "    print(\" \")\n",
        "\n",
        "\n",
        "while True:\n",
        "  show_menu()\n",
        "  action_str = input(\"Please input your action:\")\n",
        "  # print(\"The action you select is %s\" %(action_str))\n",
        "  if action_str == \"1\":\n",
        "    add_namecard()\n",
        "  elif action_str == \"2\":\n",
        "    show_all_cards(NameCard_list,\"All Namecards\")\n",
        "  elif action_str == \"3\":\n",
        "    search_namecard()\n",
        "  elif action_str == \"0\":\n",
        "    print(\"Thanks for your trying,See you next time\")\n",
        "    break;\n",
        "  else:\n",
        "    print(\"Input Error,Please try again!\")\n"
      ],
      "execution_count": null,
      "outputs": []
    }
  ]
}