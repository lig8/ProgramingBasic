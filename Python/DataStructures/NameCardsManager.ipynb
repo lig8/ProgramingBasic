{
  "nbformat": 4,
  "nbformat_minor": 0,
  "metadata": {
    "colab": {
      "name": "NameCardsManager.ipynb",
      "provenance": [],
      "collapsed_sections": [],
      "include_colab_link": true
    },
    "kernelspec": {
      "name": "python3",
      "display_name": "Python 3"
    },
    "language_info": {
      "name": "python"
    }
  },
  "cells": [
    {
      "cell_type": "markdown",
      "metadata": {
        "id": "view-in-github",
        "colab_type": "text"
      },
      "source": [
        "<a href=\"https://colab.research.google.com/github/lig8/ProgramingBasic/blob/main/Python/DataStructures/NameCardsManager.ipynb\" target=\"_parent\"><img src=\"https://colab.research.google.com/assets/colab-badge.svg\" alt=\"Open In Colab\"/></a>"
      ]
    },
    {
      "cell_type": "markdown",
      "metadata": {
        "id": "fgaQjX0Ju09u"
      },
      "source": [
        "源文件地址：[Python/DataStructures/NameCardsManager.ipynb](https://github.com/lig8/ProgramingBasic/tree/main/Python/DataStructures)\n",
        "\n",
        "- [Python coding standards](https://docs.ckan.org/en/2.9/contributing/python.html)\n",
        "\n",
        "![](https://raw.githubusercontent.com/lig8/myData/main/programming/python/pic/codingStandards.JPG)\n",
        "\n",
        "\n",
        "\n"
      ]
    },
    {
      "cell_type": "code",
      "metadata": {
        "id": "2CWXut_rvLpp"
      },
      "source": [
        "# basic structure of Namecards manager\n",
        "\n",
        "NAMECARD_LIST = [\n",
        "  {\"Name\":\"lig0\",\"Wechat\":\"lig842\",\"Phone\":\"13910911234\",\"QQ\":\"53362233\"},\n",
        "  {\"Name\":\"lcj\",\"Wechat\":\"lcj842\",\"Phone\":\"15811388744\",\"QQ\":\"23555993\"},\n",
        "  {\"Name\":\"wjl\",\"Wechat\":\"wjl842\",\"Phone\":\"13681513633\",\"QQ\":\"22334578\"},\n",
        "  {\"Name\":\"ttup\",\"Wechat\":\"ttup123\",\"Phone\":\"13071103332\",\"QQ\":\"11234576\"} \n",
        "]\n",
        "\n",
        "def show_mainmenu():\n",
        "  print(\"*\" * 50)\n",
        "  print(\"\\tWelcome To Namecard System V1.0\")\n",
        "  print(\"\\t1.Add Namecard\")\n",
        "  print(\"\\t2.Show All Namecard\")\n",
        "  print(\"\\t3.Search Namecard\")\n",
        "  print(\"\\t0.Exit System\")\n",
        "  print(\"*\" * 50+\"\\n\")\n",
        "\n",
        "\n",
        "while True:\n",
        "  show_mainmenu()\n",
        "  action_str = input(\"Please input your action:\")\n",
        "  # print(\"The action you select is %s\" %(action_str))\n",
        "  if action_str == \"1\":\n",
        "    print(\"Add Namecard\")\n",
        "  elif action_str == \"2\":\n",
        "    print(\"Show all NameCards\")\n",
        "  elif action_str == \"3\":\n",
        "    print(\"Search a NameCard by name\")\n",
        "  elif action_str == \"0\":\n",
        "    print(\"Thanks for your trying,see you next time\")\n",
        "    break;\n",
        "  else:\n",
        "    print(\"Input error,please try again!\")"
      ],
      "execution_count": null,
      "outputs": []
    },
    {
      "cell_type": "markdown",
      "metadata": {
        "id": "eRvD-8jnKiw3"
      },
      "source": [
        "- [FlowChart of namecards manager](https://raw.githubusercontent.com/lig8/myData/main/programming/python/pic/nameCardsManager_s.png)\n",
        "\n",
        "![](https://raw.githubusercontent.com/lig8/myData/main/programming/python/pic/nameCardsManager_s.png)"
      ]
    },
    {
      "cell_type": "code",
      "metadata": {
        "id": "8GmoWkRsWAiH"
      },
      "source": [
        "NAMECARD_LIST = [\n",
        "  {\"Name\":\"lig0\",\"Wechat\":\"lig842\",\"Phone\":\"13910911234\",\"QQ\":\"53362233\"},\n",
        "  {\"Name\":\"lcj\",\"Wechat\":\"lcj842\",\"Phone\":\"15811388744\",\"QQ\":\"23555993\"},\n",
        "  {\"Name\":\"wjl\",\"Wechat\":\"wjl842\",\"Phone\":\"13681513633\",\"QQ\":\"22334578\"},\n",
        "  {\"Name\":\"ttup\",\"Wechat\":\"ttup123\",\"Phone\":\"13071103332\",\"QQ\":\"11234576\"} \n",
        "]\n",
        "\n",
        "def show_mainmenu():\n",
        "  print(\"*\" * 50)\n",
        "  print(\"\\tWelcome To Namecard System V1.0\")\n",
        "  print(\"\\t1.Add Namecard\")\n",
        "  print(\"\\t2.Show All Namecard\")\n",
        "  print(\"\\t3.Search Namecard\")\n",
        "  print(\"\\t0.Exit System\")\n",
        "  print(\"*\" * 50+\"\\n\")\n",
        "\n",
        "def show_all_cards(card_list,tips_info):\n",
        "  # print(\"show all NameCard\")\n",
        "  print(\"\\n\"+\"-\" * 70)\n",
        "  print(\"\\t\\t%s\" %tips_info)\n",
        "  for index_key in (\"Name\\t\\t\",\"Wechat\\t\\t\",\"Phone\\t\\t\\t\",\"QQ\"):\n",
        "    print(index_key,end=\" \")\n",
        "  print(\" \")\n",
        "  print(\"=\" * 70)\n",
        "  for card_dict in card_list:\n",
        "    print(\"%s\\t\\t%s\\t\\t%s\\t\\t%s\" %(card_dict[\"Name\"],\n",
        "                   card_dict[\"Wechat\"],\n",
        "                   card_dict[\"Phone\"],\n",
        "                   card_dict[\"QQ\"]))\n",
        "  print(\"-\" * 70 +\"\\n\")\n",
        "\n",
        "def add_namecard():\n",
        "  # print(\"add NameCard\")\n",
        "  name_str = input(\"\\nPlease input your name:\")\n",
        "  qq_str = input(\"\\nPlease input your QQ:\")\n",
        "  wechat_str = input(\"\\nPlease input your Wechat:\")\n",
        "  phone_str = input(\"\\nPlease input your Phone:\")\n",
        "  card_dict = {\"Name\":name,\"Wechat\":qq,\"Phone\":phone,\"QQ\":qq }\n",
        "  NAMECARD_LIST.append(card_dict)\n",
        "  show_all_cards([card_dict],\"Add Namecard\")\n",
        "\n",
        "def deal_cardinfo(tips_info,dict_value):\n",
        "  card_str = input(\"\\nPlease input %s: \" %tips_info)\n",
        "  if len(card_str) > 0:\n",
        "    return card_str\n",
        "  else:\n",
        "    return dict_value   \n",
        "\n",
        "def deal_card(name_card):\n",
        "  while True:\n",
        "    deal_option=input(\"[1]Delet,[2]Modify,[3]return to Mainmenu \")\n",
        "    if deal_option == \"1\":\n",
        "      NAMECARD_LIST.remove(name_card)\n",
        "      print(\"\\nDelet %s succesfully!!\" %name_card[\"Name\"])\n",
        "      show_all_cards(NAMECARD_LIST,\"All Namecards\")\n",
        "      break\n",
        "    elif deal_option == \"2\":\n",
        "      name_card[\"Name\"] = deal_cardinfo(\"Name\",name_card[\"Name\"])\n",
        "      name_card[\"Wechat\"] = deal_cardinfo(\"Wechat\",name_card[\"Wechat\"])\n",
        "      name_card[\"Phone\"] = deal_cardinfo(\"Phone\",name_card[\"Phone\"])\n",
        "      name_card[\"QQ\"] = deal_cardinfo(\"QQ\",name_card[\"QQ\"]) \n",
        "      card_list = (name_card,)\n",
        "      show_all_cards(card_list,\"modification Succesed\")                 \n",
        "      break\n",
        "    elif deal_option == \"3\":\n",
        "      break\n",
        "    else:\n",
        "      print(\"\\n\"+\"*\"*50)\n",
        "      print(\"\\t\\tInput error,please try again!!\")\n",
        "      print(\"*\"*50+\"\\n\")\n",
        "\n",
        "def search_namecard():\n",
        "  name = input(\"Please input the Name:\")\n",
        "  for name_card in NAMECARD_LIST:\n",
        "    if name == name_card[\"Name\"]:\n",
        "      card_list=(name_card,)\n",
        "      show_all_cards(card_list,\"Search Namecard\")\n",
        "      deal_card(name_card)\n",
        "      break;\n",
        "  else:\n",
        "    print(\" \")\n",
        "    print(\"\\tSorry,No match record finded\")\n",
        "    print(\" \")\n",
        "\n",
        "def main():\n",
        "  while True:\n",
        "    show_mainmenu()\n",
        "    action_str = input(\"Please input your action:\")\n",
        "    # print(\"The action you select is %s\" %(action_str))\n",
        "    if action_str == \"1\":\n",
        "      add_namecard()\n",
        "    elif action_str == \"2\":\n",
        "      show_all_cards(NAMECARD_LIST,\"All Namecards\")\n",
        "    elif action_str == \"3\":\n",
        "      search_namecard()\n",
        "    elif action_str == \"0\":\n",
        "      print(\"Thanks for your trying,See you next time\")\n",
        "      break;\n",
        "    else:\n",
        "      print(\"Input Error,Please try again!\")\n",
        "\n",
        "main()"
      ],
      "execution_count": null,
      "outputs": []
    }
  ]
}